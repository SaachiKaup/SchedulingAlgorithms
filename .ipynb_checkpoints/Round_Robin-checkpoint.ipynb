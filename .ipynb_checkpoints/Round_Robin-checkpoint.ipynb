{
 "cells": [
  {
   "cell_type": "code",
   "execution_count": 1,
   "id": "02544c1d",
   "metadata": {},
   "outputs": [],
   "source": [
    "import itertools as it\n",
    "from collections import deque\n",
    "from collections import namedtuple"
   ]
  },
  {
   "cell_type": "code",
   "execution_count": 226,
   "id": "9fdf8da1",
   "metadata": {},
   "outputs": [],
   "source": [
    "BT = [3, 4, 3]\n",
    "AT = [0, 0, 0]\n",
    "TQ = 1"
   ]
  },
  {
   "cell_type": "code",
   "execution_count": 186,
   "id": "3422a419",
   "metadata": {},
   "outputs": [],
   "source": [
    "BT = [5, 4, 2, 1]\n",
    "AT = [0, 1, 2, 3]\n",
    "TQ = 2"
   ]
  },
  {
   "cell_type": "code",
   "execution_count": 2,
   "id": "b3656b64",
   "metadata": {},
   "outputs": [],
   "source": [
    "BT = [21, 3, 6, 2]\n",
    "AT = [0, 0, 0, 0]\n",
    "TQ = 5"
   ]
  },
  {
   "cell_type": "code",
   "execution_count": 245,
   "id": "99633e23",
   "metadata": {},
   "outputs": [],
   "source": [
    "no_of_processes = len(BT)"
   ]
  },
  {
   "cell_type": "code",
   "execution_count": 156,
   "id": "e33c47d1",
   "metadata": {},
   "outputs": [],
   "source": [
    "process = namedtuple('process', ['order_indx', 'comp_time'])"
   ]
  },
  {
   "cell_type": "code",
   "execution_count": 157,
   "id": "957f2548",
   "metadata": {},
   "outputs": [],
   "source": [
    "def make_process(order_indx, comp_time):\n",
    "    return process(order_indx, comp_time)"
   ]
  },
  {
   "cell_type": "code",
   "execution_count": 158,
   "id": "00a104b0",
   "metadata": {},
   "outputs": [],
   "source": [
    "def add_process(ready_queue):\n",
    "    ready_queue.appendleft(process)\n",
    "    print(ready_queue)"
   ]
  },
  {
   "cell_type": "code",
   "execution_count": 171,
   "id": "a639065a",
   "metadata": {},
   "outputs": [],
   "source": [
    "def check_for_new_processes(arrival_times, process, visited, ready_queue, curr_time):\n",
    "    if (curr_time >= arrival_times[process.order_indx] and not visited[process.order_indx]):\n",
    "        ready_queue.appendleft(process)\n",
    "        visited[process.order_indx] = True\n",
    "\n",
    "    return ready_queue, visited\n",
    "        "
   ]
  },
  {
   "cell_type": "code",
   "execution_count": 243,
   "id": "882c6e0c",
   "metadata": {},
   "outputs": [],
   "source": [
    "def get_completion_time(burst_times, arrival_times, no_of_processes, TQ):\n",
    "    ready_queue = deque()\n",
    "    total_time = arrival_times[0]\n",
    "    ready_queue.appendleft(make_process(total_time, burst_times[0]))\n",
    "    visited = [False] * no_of_processes\n",
    "    completion_times = [None] * no_of_processes\n",
    "    process = None\n",
    "    while len(ready_queue) > 0:\n",
    "        for new_process_indx, burst_time in enumerate(burst_times[1: ], start = 1):\n",
    "            new_process = make_process(new_process_indx, burst_time)\n",
    "            check_for_new_processes(arrival_times, new_process, visited, ready_queue, total_time + TQ)\n",
    "        curr_process = ready_queue.pop()\n",
    "        curr_process_indx = curr_process.order_indx\n",
    "        curr_process_time_left = curr_process.comp_time\n",
    "        if curr_process_time_left >= TQ:\n",
    "            curr_process_time_left -= TQ\n",
    "            total_time += TQ\n",
    "        else:\n",
    "            total_time += curr_process_time_left\n",
    "            curr_process_time_left = 0\n",
    "        \n",
    "        if curr_process_time_left > 0:\n",
    "            back_added_process = make_process(curr_process_indx, curr_process_time_left)\n",
    "            ready_queue.appendleft(back_added_process)\n",
    "        else:\n",
    "            completion_times[curr_process_indx] = total_time\n",
    "    return completion_times\n",
    "        \n",
    "    "
   ]
  },
  {
   "cell_type": "code",
   "execution_count": 244,
   "id": "396cf46f",
   "metadata": {},
   "outputs": [
    {
     "name": "stdout",
     "output_type": "stream",
     "text": [
      "[5, 3, 1, 2, 3] 5\n"
     ]
    },
    {
     "data": {
      "text/plain": [
       "[13, 12, 5, 9, 14]"
      ]
     },
     "execution_count": 244,
     "metadata": {},
     "output_type": "execute_result"
    }
   ],
   "source": [
    "get_completion_time(BT, AT, no_of_processes, TQ)"
   ]
  }
 ],
 "metadata": {
  "kernelspec": {
   "display_name": "Python 3",
   "language": "python",
   "name": "python3"
  },
  "language_info": {
   "codemirror_mode": {
    "name": "ipython",
    "version": 3
   },
   "file_extension": ".py",
   "mimetype": "text/x-python",
   "name": "python",
   "nbconvert_exporter": "python",
   "pygments_lexer": "ipython3",
   "version": "3.7.3"
  }
 },
 "nbformat": 4,
 "nbformat_minor": 5
}
