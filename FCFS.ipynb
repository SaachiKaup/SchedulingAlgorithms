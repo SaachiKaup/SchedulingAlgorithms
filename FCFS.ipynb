{
 "cells": [
  {
   "cell_type": "code",
   "execution_count": 9,
   "id": "b82d80ad",
   "metadata": {},
   "outputs": [],
   "source": [
    "import itertools as it"
   ]
  },
  {
   "cell_type": "code",
   "execution_count": 155,
   "id": "449307e7",
   "metadata": {},
   "outputs": [],
   "source": [
    "BT = [1, 2, 3, 2]\n",
    "AT = [0, 2, 4, 6] #entered in increasing order"
   ]
  },
  {
   "cell_type": "code",
   "execution_count": 61,
   "id": "146d7cac",
   "metadata": {},
   "outputs": [],
   "source": [
    "BT = [24, 3, 3]\n",
    "AT = [0, 0, 0]"
   ]
  },
  {
   "cell_type": "code",
   "execution_count": 113,
   "id": "6ec3f752",
   "metadata": {},
   "outputs": [],
   "source": [
    "BT = [7, 4, 1, 4]\n",
    "AT = [0, 2, 4, 5]"
   ]
  },
  {
   "cell_type": "code",
   "execution_count": 44,
   "id": "89f081c9",
   "metadata": {},
   "outputs": [],
   "source": [
    "BT = [21, 3, 6, 2]\n",
    "AT = [0, 0, 0, 0]\n",
    "TQ = 5\n",
    "CT = [32, 8, 21, 15]"
   ]
  },
  {
   "cell_type": "code",
   "execution_count": 62,
   "id": "e47b6dfc",
   "metadata": {},
   "outputs": [
    {
     "data": {
      "text/plain": [
       "[24, 3, 3]"
      ]
     },
     "execution_count": 62,
     "metadata": {},
     "output_type": "execute_result"
    }
   ],
   "source": [
    "no_of_processes = len(BT)\n",
    "BT"
   ]
  },
  {
   "cell_type": "code",
   "execution_count": 63,
   "id": "c8443d7c",
   "metadata": {},
   "outputs": [],
   "source": [
    "def get_completion_time(burst_times, completion_times = []):\n",
    "    return completion_times if completion_times else list(it.accumulate(burst_times))"
   ]
  },
  {
   "cell_type": "code",
   "execution_count": 64,
   "id": "415e9e0d",
   "metadata": {},
   "outputs": [],
   "source": [
    "def get_turn_time(burst_times, arrival_times, completion_times = []):\n",
    "    total_turn_time = get_completion_time(burst_times, completion_times)\n",
    "    for indx, turn_time in enumerate(total_turn_time):\n",
    "        total_turn_time[indx] = turn_time - arrival_times[indx]\n",
    "    return total_turn_time"
   ]
  },
  {
   "cell_type": "code",
   "execution_count": 65,
   "id": "227e5b7d",
   "metadata": {},
   "outputs": [
    {
     "data": {
      "text/plain": [
       "[24, 27, 30]"
      ]
     },
     "execution_count": 65,
     "metadata": {},
     "output_type": "execute_result"
    }
   ],
   "source": [
    "TT = get_turn_time(BT, AT)\n",
    "TT"
   ]
  },
  {
   "cell_type": "code",
   "execution_count": 66,
   "id": "60a73c0c",
   "metadata": {},
   "outputs": [],
   "source": [
    "def get_wait(turn_times, burst_times):\n",
    "    wait_times = []\n",
    "    for indx, burst_time in enumerate(burst_times):\n",
    "        wait_times.append(TT[indx] - burst_time)  \n",
    "    return [abs(_) for _ in wait_times]"
   ]
  },
  {
   "cell_type": "code",
   "execution_count": 67,
   "id": "108b97e1",
   "metadata": {},
   "outputs": [
    {
     "data": {
      "text/plain": [
       "[0, 24, 27]"
      ]
     },
     "execution_count": 67,
     "metadata": {},
     "output_type": "execute_result"
    }
   ],
   "source": [
    "WT = get_wait(TT, BT)\n",
    "WT"
   ]
  },
  {
   "cell_type": "code",
   "execution_count": 68,
   "id": "d0fbf6a2",
   "metadata": {},
   "outputs": [],
   "source": [
    "def get_avg_time(times, no_of_processes):\n",
    "    return sum(times) / no_of_processes"
   ]
  },
  {
   "cell_type": "code",
   "execution_count": 69,
   "id": "4164230f",
   "metadata": {},
   "outputs": [
    {
     "data": {
      "text/plain": [
       "17.0"
      ]
     },
     "execution_count": 69,
     "metadata": {},
     "output_type": "execute_result"
    }
   ],
   "source": [
    "AWT = get_avg_time(WT, no_of_processes)\n",
    "AWT"
   ]
  },
  {
   "cell_type": "code",
   "execution_count": 70,
   "id": "d7f671f1",
   "metadata": {},
   "outputs": [],
   "source": [
    "ATAT = get_avg_time(TT, no_of_processes)"
   ]
  },
  {
   "cell_type": "code",
   "execution_count": 71,
   "id": "5ba478c3",
   "metadata": {},
   "outputs": [],
   "source": [
    "def print_list(prefix: str, given_list : []):\n",
    "    print(prefix, end = \": \")\n",
    "    print(*given_list, sep = \", \")"
   ]
  },
  {
   "cell_type": "code",
   "execution_count": 72,
   "id": "ae0216d6",
   "metadata": {},
   "outputs": [],
   "source": [
    "def main():\n",
    "    print_list(\"Burst times\", BT)\n",
    "    print_list(\"Arrival times\", AT)\n",
    "    print_list(\"Waiting times\", WT)\n",
    "    print_list(\"Turnaround times\", TT)\n",
    "    if CT:\n",
    "        print_list(\"Completion times\", CT)\n",
    "    print(\"Avg wait time:\", AWT)\n",
    "    print(\"Avg turn time:\", ATAT)\n",
    "    "
   ]
  },
  {
   "cell_type": "code",
   "execution_count": 74,
   "id": "690764c6",
   "metadata": {},
   "outputs": [
    {
     "name": "stdout",
     "output_type": "stream",
     "text": [
      "Burst times: 24, 3, 3\n",
      "Arrival times: 0, 0, 0\n",
      "Waiting times: 0, 24, 27\n",
      "Turnaround times: 24, 27, 30\n",
      "Avg wait time: 17.0\n",
      "Avg turn time: 27.0\n"
     ]
    }
   ],
   "source": [
    "main()"
   ]
  }
 ],
 "metadata": {
  "kernelspec": {
   "display_name": "Python 3",
   "language": "python",
   "name": "python3"
  },
  "language_info": {
   "codemirror_mode": {
    "name": "ipython",
    "version": 3
   },
   "file_extension": ".py",
   "mimetype": "text/x-python",
   "name": "python",
   "nbconvert_exporter": "python",
   "pygments_lexer": "ipython3",
   "version": "3.7.3"
  }
 },
 "nbformat": 4,
 "nbformat_minor": 5
}
