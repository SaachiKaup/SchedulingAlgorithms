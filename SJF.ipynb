{
 "cells": [
  {
   "cell_type": "code",
   "execution_count": 5,
   "id": "fbf623cc",
   "metadata": {},
   "outputs": [],
   "source": [
    "import itertools as it"
   ]
  },
  {
   "cell_type": "code",
   "execution_count": 152,
   "id": "aea8b297",
   "metadata": {},
   "outputs": [],
   "source": [
    "BT = [6, 8, 7, 3]\n",
    "AT = [0, 1, 2, 3]"
   ]
  },
  {
   "cell_type": "code",
   "execution_count": 6,
   "id": "ffcf55bd",
   "metadata": {},
   "outputs": [],
   "source": [
    "BT = [7, 4, 1, 4]\n",
    "AT = [0, 2, 4, 5]"
   ]
  },
  {
   "cell_type": "code",
   "execution_count": 160,
   "id": "61d58871",
   "metadata": {},
   "outputs": [],
   "source": [
    "BT = [24, 3, 3]\n",
    "AT = [0, 0, 0]"
   ]
  },
  {
   "cell_type": "code",
   "execution_count": 14,
   "id": "9204afb4",
   "metadata": {},
   "outputs": [],
   "source": [
    "no_of_processes = len(BT)"
   ]
  },
  {
   "cell_type": "code",
   "execution_count": 7,
   "id": "764593b3",
   "metadata": {},
   "outputs": [],
   "source": [
    "def check_lesser(burst_time, prev_sum_burst, min_burst_time):\n",
    "    return burst_time <= prev_sum_burst and \\\n",
    "            burst_time < min_burst_time"
   ]
  },
  {
   "cell_type": "code",
   "execution_count": 8,
   "id": "31efd092",
   "metadata": {},
   "outputs": [],
   "source": [
    "def get_minimum(burst_time, indx, min_burst_time, min_indx):\n",
    "    min_burst_time = burst_times[indx]\n",
    "    min_indx = indx"
   ]
  },
  {
   "cell_type": "code",
   "execution_count": 9,
   "id": "7aa0b316",
   "metadata": {},
   "outputs": [],
   "source": [
    "def swap(burst_times, indx, next_indx):\n",
    "    burst_times[indx], burst_times[next_indx] = burst_times[next_indx], burst_times[indx]"
   ]
  },
  {
   "cell_type": "code",
   "execution_count": 10,
   "id": "7fbac561",
   "metadata": {},
   "outputs": [],
   "source": [
    "def update_queue(arr_time, min_burst_time, ready_queue):\n",
    "    ready_queue[arr_time] = min_burst_time"
   ]
  },
  {
   "cell_type": "code",
   "execution_count": 11,
   "id": "1185a57d",
   "metadata": {},
   "outputs": [],
   "source": [
    "def update_cum(prev_total_burst_time, curr_min_burst_time, cum_burst_times):\n",
    "    cum_burst_times.append(prev_total_burst_time + curr_min_burst_time)  "
   ]
  },
  {
   "cell_type": "code",
   "execution_count": 12,
   "id": "5ca71f65",
   "metadata": {},
   "outputs": [],
   "source": [
    "def get_ready_queue(burst_times, arr_times, no_of_processes):\n",
    "    ready_queue = {}\n",
    "    ready_queue[arr_times[0]] = burst_times[0]\n",
    "    cum_burst_times = [burst_times[0]]\n",
    "    \n",
    "    for indx, burst_time in enumerate(burst_times[1: ], start = 1):\n",
    "        min_burst_time = burst_time\n",
    "        min_indx = indx\n",
    "        for next_indx in range(indx + 1, no_of_processes):\n",
    "            if check_lesser(burst_times[next_indx], cum_burst_times[-1], min_burst_time):\n",
    "                swap(burst_times, indx, next_indx)\n",
    "                get_minimum(burst_time[indx], indx, min_burst_time, min_indx)\n",
    "                \n",
    "        update_queue(arr_times[min_indx], min_burst_time, ready_queue)\n",
    "        update_cum(cum_burst_times[-1], min_burst_time, cum_burst_times)\n",
    "        #print(cum_burst_times)\n",
    "    return ready_queue"
   ]
  },
  {
   "cell_type": "code",
   "execution_count": 16,
   "id": "ec954dfd",
   "metadata": {},
   "outputs": [
    {
     "data": {
      "text/plain": [
       "{0: 7, 2: 1, 4: 4, 5: 4}"
      ]
     },
     "execution_count": 16,
     "metadata": {},
     "output_type": "execute_result"
    }
   ],
   "source": [
    "get_ready_queue(BT, AT, no_of_processes)"
   ]
  },
  {
   "cell_type": "code",
   "execution_count": 17,
   "id": "a3005967",
   "metadata": {},
   "outputs": [],
   "source": [
    "def get_ordered_bursts(ready_queue):\n",
    "    return list(ready_queue.values())"
   ]
  },
  {
   "cell_type": "code",
   "execution_count": 18,
   "id": "00122b94",
   "metadata": {},
   "outputs": [],
   "source": [
    "def get_ord_BT(BT, AT, no_of_processes):\n",
    "    if all([_ == 0 for _ in AT]):\n",
    "        return sorted(BT)\n",
    "    return get_ordered_bursts(get_ready_queue(BT, AT, no_of_processes))"
   ]
  },
  {
   "cell_type": "code",
   "execution_count": 19,
   "id": "9f6f1ccb",
   "metadata": {},
   "outputs": [],
   "source": [
    "ord_BT = get_ord_BT(BT, AT, no_of_processes)"
   ]
  },
  {
   "cell_type": "code",
   "execution_count": 20,
   "id": "e0584626",
   "metadata": {},
   "outputs": [],
   "source": [
    "def get_turn_time(burst_times, arrival_times):\n",
    "    total_turn_time = list(it.accumulate(burst_times))\n",
    "    for indx, turn_time in enumerate(total_turn_time):\n",
    "        total_turn_time[indx] = turn_time - arrival_times[indx]\n",
    "    return total_turn_time"
   ]
  },
  {
   "cell_type": "code",
   "execution_count": 21,
   "id": "1473b425",
   "metadata": {},
   "outputs": [
    {
     "data": {
      "text/plain": [
       "[7, 6, 8, 11]"
      ]
     },
     "execution_count": 21,
     "metadata": {},
     "output_type": "execute_result"
    }
   ],
   "source": [
    "TT = get_turn_time(ord_BT, AT)\n",
    "TT"
   ]
  },
  {
   "cell_type": "code",
   "execution_count": 22,
   "id": "0c0efc39",
   "metadata": {},
   "outputs": [],
   "source": [
    "def get_wait(turn_times, burst_times):\n",
    "    wait_times = []\n",
    "    for indx, burst_time in enumerate(burst_times):\n",
    "        wait_times.append(TT[indx] - burst_time)  \n",
    "    return [abs(_) for _ in wait_times]"
   ]
  },
  {
   "cell_type": "code",
   "execution_count": 23,
   "id": "64ca3458",
   "metadata": {},
   "outputs": [
    {
     "data": {
      "text/plain": [
       "[0, 5, 4, 7]"
      ]
     },
     "execution_count": 23,
     "metadata": {},
     "output_type": "execute_result"
    }
   ],
   "source": [
    "WT = get_wait(TT, ord_BT)\n",
    "WT"
   ]
  },
  {
   "cell_type": "code",
   "execution_count": 24,
   "id": "950d0662",
   "metadata": {},
   "outputs": [],
   "source": [
    "def get_avg_time(times, no_of_processes):\n",
    "    return sum(times) / no_of_processes"
   ]
  },
  {
   "cell_type": "code",
   "execution_count": 25,
   "id": "73537c12",
   "metadata": {},
   "outputs": [],
   "source": [
    "AWT = get_avg_time(WT, no_of_processes)"
   ]
  },
  {
   "cell_type": "code",
   "execution_count": 26,
   "id": "58a6d6fe",
   "metadata": {},
   "outputs": [],
   "source": [
    "ATAT = get_avg_time(TT, no_of_processes)"
   ]
  },
  {
   "cell_type": "code",
   "execution_count": 27,
   "id": "ef29517d",
   "metadata": {},
   "outputs": [],
   "source": [
    "def print_list(prefix: str, given_list : []):\n",
    "    print(prefix, end = \": \")\n",
    "    print(*given_list, sep = \", \")"
   ]
  },
  {
   "cell_type": "code",
   "execution_count": 28,
   "id": "34211559",
   "metadata": {},
   "outputs": [],
   "source": [
    "def main():\n",
    "    print_list(\"Burst times\", ord_BT)\n",
    "    print_list(\"Arrival times\", AT)\n",
    "    print_list(\"Waiting times\", WT)\n",
    "    print_list(\"Turnaround times\", TT)\n",
    "    print(\"Avg wait time:\", AWT)\n",
    "    print(\"Avg turn time:\", ATAT)\n",
    "    "
   ]
  },
  {
   "cell_type": "code",
   "execution_count": 29,
   "id": "cd82c02e",
   "metadata": {},
   "outputs": [
    {
     "name": "stdout",
     "output_type": "stream",
     "text": [
      "Burst times: 7, 1, 4, 4\n",
      "Arrival times: 0, 2, 4, 5\n",
      "Waiting times: 0, 5, 4, 7\n",
      "Turnaround times: 7, 6, 8, 11\n",
      "Avg wait time: 4.0\n",
      "Avg turn time: 8.0\n"
     ]
    }
   ],
   "source": [
    "main()"
   ]
  }
 ],
 "metadata": {
  "kernelspec": {
   "display_name": "Python 3",
   "language": "python",
   "name": "python3"
  },
  "language_info": {
   "codemirror_mode": {
    "name": "ipython",
    "version": 3
   },
   "file_extension": ".py",
   "mimetype": "text/x-python",
   "name": "python",
   "nbconvert_exporter": "python",
   "pygments_lexer": "ipython3",
   "version": "3.7.3"
  }
 },
 "nbformat": 4,
 "nbformat_minor": 5
}
